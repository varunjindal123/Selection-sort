{
 "cells": [
  {
   "cell_type": "code",
   "execution_count": 3,
   "metadata": {},
   "outputs": [
    {
     "name": "stdout",
     "output_type": "stream",
     "text": [
      "[56, 2, 6, 8, 78, 0]\n",
      "[0, 2, 6, 8, 56, 78]\n"
     ]
    }
   ],
   "source": [
    "list=[56,2,6,8,78,0]\n",
    "print(list)\n",
    "\n",
    "for i in range(len(list)):\n",
    "    min_value=min(list[i:])\n",
    "    min_index=list.index(min_value)\n",
    "    list[i],list[min_index]=list[min_index],list[i]\n",
    "    \n",
    "print(list)"
   ]
  }
 ],
 "metadata": {
  "kernelspec": {
   "display_name": "Python 3",
   "language": "python",
   "name": "python3"
  },
  "language_info": {
   "codemirror_mode": {
    "name": "ipython",
    "version": 3
   },
   "file_extension": ".py",
   "mimetype": "text/x-python",
   "name": "python",
   "nbconvert_exporter": "python",
   "pygments_lexer": "ipython3",
   "version": "3.8.3"
  }
 },
 "nbformat": 4,
 "nbformat_minor": 4
}
